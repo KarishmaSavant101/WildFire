{
 "cells": [
  {
   "cell_type": "code",
   "execution_count": null,
   "id": "executive-hours",
   "metadata": {},
   "outputs": [],
   "source": [
    "import torch\n",
    "import numpy as np\n",
    "\n",
    "from tqdm import tqdm\n",
    "import torchvision\n",
    "import torch.nn as nn\n",
    "\n",
    "import time\n",
    "import copy\n",
    "import gc\n",
    "import json\n",
    "import warnings\n",
    "\n",
    "import numpy as np\n",
    "from sklearn.model_selection import StratifiedKFold\n",
    "from sklearn.ensemble import RandomForestClassifier \n",
    "from sklearn.metrics import confusion_matrix, plot_confusion_matrix, classification_report, plot_precision_recall_curve, roc_auc_score\n",
    "\n",
    "from wildfire_forecasting.datamodules.datasets import FireDataset_npy"
   ]
  },
  {
   "cell_type": "code",
   "execution_count": null,
   "id": "willing-shoot",
   "metadata": {},
   "outputs": [],
   "source": [
    "# !IMPORTANT fill the path with path of the dataset you have downloaded\n",
    "dataset_root = Path(None)\n",
    "\n",
    "dataloaders = {\n",
    "    'train' : torch.utils.data.DataLoader(FireDataset_npy(dataset_root = dataset_root, train_val_test='train', access_mode = 'temporal', clc = 'vec'), batch_size=1, shuffle=True, num_workers=16),\n",
    "    'val' : torch.utils.data.DataLoader(FireDataset_npy(dataset_root = dataset_root, train_val_test='val', access_mode = 'temporal', clc = 'vec'), batch_size=1, num_workers=16),\n",
    "    'test': torch.utils.data.DataLoader(FireDataset_npy(dataset_root = dataset_root, train_val_test='test', access_mode = 'temporal', clc = 'vec'), batch_size=1, num_workers=16),\n",
    "}"
   ]
  },
  {
   "cell_type": "code",
   "execution_count": null,
   "id": "biblical-measure",
   "metadata": {},
   "outputs": [],
   "source": [
    "#Create the training, val and test datasets\n",
    "X_train = []\n",
    "X_val = []\n",
    "X_test = []\n",
    "y_train = []\n",
    "y_val = []\n",
    "y_test = []\n",
    "\n",
    "for i, (dynamic, static, clc, label) in enumerate(dataloaders['train']):\n",
    "    dynamic_avg = dynamic.nanmean(dim=1)\n",
    "    input_ = torch.cat([dynamic_avg.squeeze(), dynamic[:,-1,:].squeeze(), static.squeeze(), clc.squeeze()], dim = 0)\n",
    "    input_ = input_.numpy()\n",
    "    X_train.append(input_)\n",
    "    y_train.append(label.numpy())\n",
    "\n",
    "for i, (dynamic, static, clc, label) in enumerate(dataloaders['val']):\n",
    "    dynamic_avg = dynamic.nanmean(dim=1)\n",
    "    input_ = torch.cat([dynamic_avg.squeeze(), dynamic[:,-1,:].squeeze(), static.squeeze(), clc.squeeze()], dim = 0)\n",
    "    input_ = input_.numpy()\n",
    "    X_val.append(input_)\n",
    "    y_val.append(label.numpy())\n",
    "    \n",
    "for i, (dynamic, static, clc, label) in enumerate(dataloaders['test']):\n",
    "    dynamic_avg = dynamic.nanmean(dim=1)\n",
    "    input_ = torch.cat([dynamic_avg.squeeze(), dynamic[:,-1,:].squeeze(), static.squeeze(), clc.squeeze()], dim = 0)\n",
    "    input_ = input_.numpy()\n",
    "    X_test.append(input_)\n",
    "    y_test.append(label.numpy())\n",
    "\n",
    "X_train = np.stack(X_train, axis=0)\n",
    "y_train = np.stack(y_train, axis=0)\n",
    "X_val = np.stack(X_val, axis=0)\n",
    "y_val = np.stack(y_val, axis=0)\n",
    "X_test = np.stack(X_test, axis=0)\n",
    "y_test = np.stack(y_test, axis=0)"
   ]
  },
  {
   "cell_type": "code",
   "execution_count": null,
   "id": "physical-avenue",
   "metadata": {},
   "outputs": [],
   "source": [
    "n_est = 100\n",
    "max_depth = 10\n",
    "min_samples_split = 2\n",
    "min_samples_leaf = 1"
   ]
  },
  {
   "cell_type": "code",
   "execution_count": null,
   "id": "attended-maine",
   "metadata": {},
   "outputs": [],
   "source": [
    "clf = RandomForestClassifier(n_estimators=n_est, max_depth = max_depth, min_samples_split=min_samples_split, \n",
    "                             min_samples_leaf = min_samples_leaf, random_state=1234)\n",
    "clf.fit(X_train, y_train.ravel())"
   ]
  },
  {
   "cell_type": "code",
   "execution_count": null,
   "id": "arranged-launch",
   "metadata": {},
   "outputs": [],
   "source": [
    "y_pred=clf.predict(X_test)\n",
    "\n",
    "probs_pred = clf.predict_proba(X_test)[:,1]\n",
    "X_test = np.stack(X_test, axis=0)\n",
    "y_test = np.stack(y_test, axis=0)\n",
    "auc = roc_auc_score(y_test, probs_pred)\n",
    "aucpr = average_precision_score(y_test, probs_pred)\n",
    "\n",
    "print(auc)\n",
    "print(aucpr)\n",
    "print(classification_report(y_test, y_pred, digits=3))"
   ]
  },
  {
   "cell_type": "code",
   "execution_count": null,
   "id": "informational-breakdown",
   "metadata": {},
   "outputs": [],
   "source": [
    "# import pickle\n",
    "# filename = 'rf.sav'\n",
    "# pickle.dump(clf, open(filename, 'wb'))"
   ]
  }
 ],
 "metadata": {
  "kernelspec": {
   "display_name": "geo-env",
   "language": "python",
   "name": "geo-env"
  },
  "language_info": {
   "codemirror_mode": {
    "name": "ipython",
    "version": 3
   },
   "file_extension": ".py",
   "mimetype": "text/x-python",
   "name": "python",
   "nbconvert_exporter": "python",
   "pygments_lexer": "ipython3",
   "version": "3.7.3"
  }
 },
 "nbformat": 4,
 "nbformat_minor": 5
}
